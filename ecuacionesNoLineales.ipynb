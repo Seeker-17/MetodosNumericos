{
 "cells": [
  {
   "cell_type": "code",
   "execution_count": 108,
   "metadata": {},
   "outputs": [],
   "source": [
    "import math\n",
    "import sympy as sp\n",
    "import matplotlib.pyplot as plt\n",
    "import numpy as np"
   ]
  },
  {
   "cell_type": "code",
   "execution_count": 109,
   "metadata": {},
   "outputs": [],
   "source": [
    "#DEFINIR EL INTERVALO Y EL ERROR A USAR\n",
    "a = 0\n",
    "b = 1\n",
    "error = 0.01"
   ]
  },
  {
   "cell_type": "code",
   "execution_count": 110,
   "metadata": {},
   "outputs": [],
   "source": [
    "#definir la función a la que se le buscará la raíz\n",
    "def f(x):\n",
    "    return 5 * x**3 - 5 **2 + 6 * x -2 #puedes modificar esto para encontrar la raíz de otra función"
   ]
  },
  {
   "cell_type": "code",
   "execution_count": 111,
   "metadata": {},
   "outputs": [
    {
     "name": "stdout",
     "output_type": "stream",
     "text": [
      "No hay raíz en este intervalo\n"
     ]
    }
   ],
   "source": [
    "#BISECCIÓN.\n",
    "#definir el método de bisección.\n",
    "def biseccion(a, b, err):\n",
    "    i = 0\n",
    "    puntos = []\n",
    "    \n",
    "    if f(a) * f(b) > 0:\n",
    "        print(\"No hay raíz en este intervalo\")\n",
    "        return puntos\n",
    "    e = abs(b - a) / 2\n",
    "    while e > err:\n",
    "        e = abs(b - a) / 2\n",
    "        m = (a + b) / 2\n",
    "        puntos.append(m)\n",
    "        \n",
    "        if f(a) * f(m) < 0:\n",
    "            b = m\n",
    "        else:\n",
    "            a = m\n",
    "        \n",
    "        i += 1\n",
    "        \n",
    "        print(\"ITERACIÓN: \", i, \"\\nRaiz: \", m, \"\\nIntervalo: \", '[',a, \",\", b,']', \"\\nError: \", (e)*100, \"%\\n\")\n",
    "    \n",
    "    print('La raíz aproximada es: x',i, ' = ', m)\n",
    "    return puntos\n",
    "\n",
    "pm_biseccion = biseccion(a, b, error)"
   ]
  },
  {
   "cell_type": "code",
   "execution_count": null,
   "metadata": {},
   "outputs": [
    {
     "name": "stdout",
     "output_type": "stream",
     "text": [
      "ITERACIÓN: 1 \n",
      "Raíz: 2.4545454545454546 \n",
      "Intervalo: [0, 2.4545454545454546] \n",
      "Error: 2.4545454545454546%\n",
      "\n",
      "ITERACIÓN: 2 \n",
      "Raíz: 0.7474262182566918 \n",
      "Intervalo: [0.7474262182566918, 2.4545454545454546] \n",
      "Error: 0.7474262182566918%\n",
      "\n",
      "ITERACIÓN: 3 \n",
      "Raíz: 1.1722056685562614 \n",
      "Intervalo: [1.1722056685562614, 2.4545454545454546] \n",
      "Error: 0.42477945029956965%\n",
      "\n",
      "ITERACIÓN: 4 \n",
      "Raíz: 1.3798255771589105 \n",
      "Intervalo: [1.3798255771589105, 2.4545454545454546] \n",
      "Error: 0.20761990860264912%\n",
      "\n",
      "ITERACIÓN: 5 \n",
      "Raíz: 1.4690851865253076 \n",
      "Intervalo: [1.4690851865253076, 2.4545454545454546] \n",
      "Error: 0.0892596093663971%\n",
      "\n",
      "ITERACIÓN: 6 \n",
      "Raíz: 1.5050004737016458 \n",
      "Intervalo: [1.5050004737016458, 2.4545454545454546] \n",
      "Error: 0.035915287176338184%\n",
      "\n",
      "ITERACIÓN: 7 \n",
      "Raíz: 1.5190428603102974 \n",
      "Intervalo: [1.5190428603102974, 2.4545454545454546] \n",
      "Error: 0.014042386608651647%\n",
      "\n",
      "ITERACIÓN: 8 \n",
      "Raíz: 1.5244701555671272 \n",
      "Intervalo: [1.5244701555671272, 2.4545454545454546] \n",
      "Error: 0.005427295256829723%\n",
      "\n",
      "La raíz aproximada es: x = 1.5244701555671272\n"
     ]
    }
   ],
   "source": [
    "def reglaFalsa(a, b, err, imax=250):\n",
    "    solucion = None\n",
    "    i = 0\n",
    "    error_calculado = 100\n",
    "    puntos = []\n",
    "    \n",
    "    if f(a) * f(b) > 0:\n",
    "        print(\"No hay raíz en este intervalo.\")\n",
    "        return puntos\n",
    "    \n",
    "    while i <= imax and error_calculado >= err:\n",
    "        i += 1\n",
    "        if abs(f(b) - f(a)) < 1e-12:  # Evitar división por 0 (usar un valor razonable)\n",
    "            print(\"División por cero detectada. No se puede continuar.\")\n",
    "            return puntos\n",
    "        \n",
    "        solucion = b - ((f(b) * (b - a)) / (f(b) - f(a)))\n",
    "        error_calculado = abs((solucion - a)) \n",
    "        \n",
    "        puntos.append(solucion)\n",
    "        \n",
    "        if f(a) * f(solucion) >= 0:\n",
    "            a = solucion\n",
    "        else:\n",
    "            b = solucion\n",
    "        \n",
    "        print(f\"ITERACIÓN: {i} \\nRaíz: {solucion} \\nIntervalo: [{a}, {b}] \\nError: {error_calculado}%\\n\")\n",
    "    \n",
    "    if i > imax:\n",
    "        print(\"Se alcanzó el número máximo de iteraciones sin converger.\")\n",
    "    else:\n",
    "        print(f'La raíz aproximada es: x = {solucion}')\n",
    "    \n",
    "    return puntos\n",
    "\n",
    "# Llamada de prueba\n",
    "puntos_rf = reglaFalsa(a, b, error, imax=1500)"
   ]
  },
  {
   "cell_type": "code",
   "execution_count": 113,
   "metadata": {},
   "outputs": [
    {
     "name": "stdout",
     "output_type": "stream",
     "text": [
      "No hay raíz en este intervalo.\n"
     ]
    }
   ],
   "source": [
    "#SECANTE\n",
    "def secante(a, b, err):\n",
    "    i = 0\n",
    "    e = 101\n",
    "    c = 0\n",
    "    puntos = []\n",
    "    \n",
    "    if f(a) * f(b) > 0:\n",
    "        print(\"No hay raíz en este intervalo.\")\n",
    "        return puntos\n",
    "    \n",
    "    while e > err:\n",
    "        c = a - ((f(a) * (a - b)) / (f(a) - f(b)))\n",
    "        a = b\n",
    "        b = c\n",
    "        puntos.append(c)\n",
    "        e = abs(f(c))\n",
    "        i += 1\n",
    "        print(\"ITERACIÓN: \", i, \"\\nRaiz: \", c, \"\\nIntervalo: \", '[', a, \",\", b, ']', \"\\nError: \", e * 100, \"%\\n\")\n",
    "    \n",
    "    print('La raíz aproximada es: x', i, ' = ', c)\n",
    "    return puntos\n",
    "puntos_secante = secante(a, b, error)"
   ]
  },
  {
   "cell_type": "code",
   "execution_count": 114,
   "metadata": {},
   "outputs": [
    {
     "name": "stdout",
     "output_type": "stream",
     "text": [
      "ITERACIÓN:  1 \n",
      "Raiz:  1.2655310312952743 \n",
      "Error:  20.981787465417 %\n",
      "\n",
      "ITERACIÓN:  2 \n",
      "Raiz:  1.334912367103646 \n",
      "Error:  5.197444979771077 %\n",
      "\n",
      "ITERACIÓN:  3 \n",
      "Raiz:  1.3780333584901614 \n",
      "Error:  3.129168907330427 %\n",
      "\n",
      "ITERACIÓN:  4 \n",
      "Raiz:  1.4081857057692735 \n",
      "Error:  2.1412195249234016 %\n",
      "\n",
      "ITERACIÓN:  5 \n",
      "Raiz:  1.4305666064025837 \n",
      "Error:  1.564478055977485 %\n",
      "\n",
      "ITERACIÓN:  6 \n",
      "Raiz:  1.4477971781291623 \n",
      "Error:  1.1901233119437267 %\n",
      "\n",
      "La raíz aproximada es: x_6 = 1.461393531334458\n"
     ]
    }
   ],
   "source": [
    "# NEWTON - RAPHSON\n",
    "x = sp.Symbol('x')\n",
    "f_sym = sp.exp(3*x) - 4\n",
    "df_sym = sp.diff(f_sym, x)  # Derivada de la función f(x)\n",
    "df = sp.lambdify(x, df_sym)  # Convertir la derivada simbólica en una función numérica\n",
    "\n",
    "# Elegir el punto inicial x0 como 'a' o 'b' dependiendo de cuál esté más cerca de la raíz\n",
    "x = a if abs(f(a)) < abs(f(b)) else b\n",
    "\n",
    "def newton_raphson(x, err, imax=250):\n",
    "    i = 0\n",
    "    puntos = []\n",
    "    \n",
    "    while i <= imax:\n",
    "        fx = f(x)\n",
    "        dfx = df(x)\n",
    "        \n",
    "        if dfx == 0:\n",
    "            print(\"Derivada cero. No se puede continuar.\")\n",
    "            return puntos\n",
    "        \n",
    "        x_new = x - fx / dfx\n",
    "        puntos.append(x_new)\n",
    "        \n",
    "        e = (x_new - x) / x_new\n",
    "        if abs(e) < err:\n",
    "            print(f\"La raíz aproximada es: x_{i} = {x_new}\")\n",
    "            return puntos\n",
    "        \n",
    "        x = x_new\n",
    "        i += 1\n",
    "        print(\"ITERACIÓN: \", i, \"\\nRaiz: \", x, \"\\nError: \", e * 100, \"%\\n\")\n",
    "    \n",
    "    print(\"Se alcanzó el número máximo de iteraciones sin converger.\")\n",
    "    return puntos\n",
    "\n",
    "# Llamar al método de Newton-Raphson\n",
    "puntos_nr = newton_raphson(x, error)"
   ]
  },
  {
   "cell_type": "code",
   "execution_count": 115,
   "metadata": {},
   "outputs": [
    {
     "data": {
      "image/png": "[encoded data removed]",
      "text/plain": [
       "<Figure size 1000x600 with 1 Axes>"
      ]
     },
     "metadata": {},
     "output_type": "display_data"
    }
   ],
   "source": [
    "#GRÁFICA DE PUNTOS\n",
    "f_vectorized = np.vectorize(f)\n",
    "x_vals = np.linspace(0.1, 3, 100)  # Start from 0.1 to avoid log(0)\n",
    "y_vals = f_vectorized(x_vals)\n",
    "\n",
    "plt.figure(figsize=(10, 6))\n",
    "plt.plot(x_vals, y_vals, label='f(x)', color='blue')\n",
    "#plt.scatter(pm_biseccion, [f(p) for p in pm_biseccion], color='red', label='Puntos Bisección', zorder=5)\n",
    "plt.scatter(puntos_rf, [f(p) for p in puntos_rf], color='green', label='Puntos Regla Falsa', zorder=5)\n",
    "#plt.scatter(puntos_secante, [f(p) for p in puntos_secante], color='orange', label='Puntos Secante', zorder=5)\n",
    "#plt.scatter(puntos_nr, [f(p) for p in puntos_nr], color='purple', label='Puntos Newton-Raphson', zorder=5)\n",
    "plt.axhline(0, color='black', linewidth=0.5)\n",
    "plt.xlabel('x')\n",
    "plt.ylabel('f(x)')\n",
    "plt.xlim(0, 3)\n",
    "plt.ylim(-3, 3)\n",
    "plt.title('Aproximaciones a la Raíz')\n",
    "plt.legend()\n",
    "plt.grid(True, linestyle='--', alpha=0.7)\n",
    "plt.show()"
   ]
  }
 ],
 "metadata": {
  "kernelspec": {
   "display_name": "Python 3",
   "language": "python",
   "name": "python3"
  },
  "language_info": {
   "codemirror_mode": {
    "name": "ipython",
    "version": 3
   },
   "file_extension": ".py",
   "mimetype": "text/x-python",
   "name": "python",
   "nbconvert_exporter": "python",
   "pygments_lexer": "ipython3",
   "version": "3.10.11"
  }
 },
 "nbformat": 4,
 "nbformat_minor": 2
}
