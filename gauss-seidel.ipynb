{
 "cells": [
  {
   "cell_type": "code",
   "execution_count": 6,
   "metadata": {},
   "outputs": [],
   "source": [
    "import numpy as np"
   ]
  },
  {
   "cell_type": "code",
   "execution_count": null,
   "metadata": {},
   "outputs": [],
   "source": [
    "# Matriz de coeficientes (COEFICIENTES DE CADA VARIABLE DE LA ECUACIÓN EN ORDEN)\n",
    "A = np.array([[10, 2, -1, 0],\n",
    "              [1, 20, -2, 3],\n",
    "              [-2, 20, 30, 0],\n",
    "              [1, 2, 3, 20]], dtype=float)\n",
    "\n",
    "# Vector de términos independientes(RESULTADOS DE LAS ECUACIONES)\n",
    "b = np.array([26, -15, 53, 47], dtype=float)\n",
    "\n",
    "# Valor inicial o valor semilla\n",
    "x0 = [1, 2, 3, 4]\n"
   ]
  },
  {
   "cell_type": "code",
   "execution_count": 27,
   "metadata": {},
   "outputs": [
    {
     "name": "stdout",
     "output_type": "stream",
     "text": [
      "ITERACIÓN 1 : [1. 2. 3. 4.]\n",
      "ITERACIÓN 2 : [ 2.5        -1.175       2.71666667  1.935     ]\n",
      "ITERACIÓN 3 : [ 3.10666667 -0.92391667  2.58972222  1.8986    ]\n",
      "ITERACIÓN 4 : [ 3.04375556 -0.92800556  2.58825407  1.90237467]\n",
      "Solución aproximada: [ 3.04442652 -0.92875212  2.58879651  1.90233441]\n"
     ]
    }
   ],
   "source": [
    "def gauss_seidel(A, b, x0=None, tol=0.01, max_iter=100):\n",
    "    n = len(b)\n",
    "    x = np.zeros(n) if x0 is None else np.array(x0, dtype=float)\n",
    "    \n",
    "    for i in range(max_iter):\n",
    "        x_new = np.copy(x)\n",
    "        print(\"ITERACIÓN\", i+1, \":\", x_new)\n",
    "        for i in range(n):\n",
    "            sum1 = sum(A[i][j] * x_new[j] for j in range(i))\n",
    "            sum2 = sum(A[i][j] * x[j] for j in range(i + 1, n))\n",
    "            x_new[i] = (b[i] - sum1 - sum2) / A[i][i]\n",
    "\n",
    "        if np.linalg.norm(x_new - x, ord=np.inf) < tol:\n",
    "            return x_new\n",
    "        x = x_new\n",
    "        \n",
    "    \n",
    "    return x  # Devuelve la última estimación si no converge\n",
    "\n",
    "# Resolver el sistema\n",
    "solucion = gauss_seidel(A, b, x0)\n",
    "print(\"Solución aproximada:\", solucion)"
   ]
  }
 ],
 "metadata": {
  "kernelspec": {
   "display_name": "Python 3",
   "language": "python",
   "name": "python3"
  },
  "language_info": {
   "codemirror_mode": {
    "name": "ipython",
    "version": 3
   },
   "file_extension": ".py",
   "mimetype": "text/x-python",
   "name": "python",
   "nbconvert_exporter": "python",
   "pygments_lexer": "ipython3",
   "version": "3.10.11"
  }
 },
 "nbformat": 4,
 "nbformat_minor": 2
}
