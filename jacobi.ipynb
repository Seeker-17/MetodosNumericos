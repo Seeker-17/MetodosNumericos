{
 "cells": [
  {
   "cell_type": "code",
   "execution_count": 8,
   "metadata": {},
   "outputs": [],
   "source": [
    "import numpy as np"
   ]
  },
  {
   "cell_type": "code",
   "execution_count": 9,
   "metadata": {},
   "outputs": [],
   "source": [
    "# Matriz de coeficientes (COEFICIENTES DE CADA VARIABLE DE LA ECUACIÓN EN ORDEN)\n",
    "A = np.array([[10, 2, -1, 0],\n",
    "              [1, 20, -2, 3],\n",
    "              [-2, 20, 30, 0],\n",
    "              [1, 2, 3, 20]], dtype=float)\n",
    "\n",
    "# Vector de términos independientes(RESULTADOS DE LAS ECUACIONES)\n",
    "b = np.array([26, -15, 53, 47], dtype=float)\n",
    "\n",
    "# Valor inicial o valor semilla\n",
    "x0 = [1, 2, 3, 4]"
   ]
  },
  {
   "cell_type": "code",
   "execution_count": 10,
   "metadata": {},
   "outputs": [],
   "source": [
    "def euclidean_distance(x1, x2):\n",
    "    return np.sqrt(np.sum((x1 - x2) ** 2))\n",
    "\n",
    "def jacobi(A, b, x0, tol=1e-6, max_iter=250):\n",
    "    x = np.zeros_like(b, dtype = np.double)\n",
    "    D = np.diag(A)\n",
    "    R = A - np.diagflat(D)\n",
    "    \n",
    "    for _ in range(max_iter):\n",
    "        x_new = (b - np.dot(R, x)) / D\n",
    "        if euclidean_distance(x, x_new) < tol:\n",
    "            return x_new\n",
    "        x = x_new\n",
    "    return x, max_iter"
   ]
  },
  {
   "cell_type": "code",
   "execution_count": 11,
   "metadata": {},
   "outputs": [
    {
     "data": {
      "text/plain": [
       "array([ 3.04461784, -0.92870184,  2.58877565,  1.90232305])"
      ]
     },
     "execution_count": 11,
     "metadata": {},
     "output_type": "execute_result"
    }
   ],
   "source": [
    "jacobi(A, b, x0)"
   ]
  }
 ],
 "metadata": {
  "kernelspec": {
   "display_name": "Python 3",
   "language": "python",
   "name": "python3"
  },
  "language_info": {
   "codemirror_mode": {
    "name": "ipython",
    "version": 3
   },
   "file_extension": ".py",
   "mimetype": "text/x-python",
   "name": "python",
   "nbconvert_exporter": "python",
   "pygments_lexer": "ipython3",
   "version": "3.10.11"
  }
 },
 "nbformat": 4,
 "nbformat_minor": 2
}
