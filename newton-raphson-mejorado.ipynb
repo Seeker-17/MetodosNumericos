{
 "cells": [
  {
   "cell_type": "code",
   "execution_count": null,
   "metadata": {},
   "outputs": [],
   "source": [
    "import sympy as sp"
   ]
  },
  {
   "cell_type": "code",
   "execution_count": 109,
   "metadata": {},
   "outputs": [],
   "source": [
    "x = sp.Symbol('x')\n",
    "\n",
    "# Definir la función a la que se le buscará la raíz\n",
    "f_sym = -0.4 * x**2 - 2.3 * x + 2.2 #puedes modificar esto para encontrar la raíz de otra función\n",
    "\n",
    "# Primera y segunda derivada\n",
    "df_sym = sp.diff(f_sym, x)\n",
    "d2f_sym = sp.diff(df_sym, x)\n",
    "\n",
    "# Convertir las funciones simbólicas a funciones numéricas\n",
    "f = sp.lambdify(x, f_sym)\n",
    "df = sp.lambdify(x, df_sym)\n",
    "d2f = sp.lambdify(x, d2f_sym)\n",
    "\n",
    "# Método de Newton-Raphson Mejorado\n",
    "def newton_raphson_mejorado(x, err, imax=250):\n",
    "    i = 0\n",
    "    \n",
    "    while i < imax:\n",
    "        fx = f(x)\n",
    "        dfx = df(x)\n",
    "        d2fx = d2f(x)\n",
    "\n",
    "        if dfx == 0:  # Evitar división por cero\n",
    "            print(\"Derivada cero. No se puede continuar.\")\n",
    "            return None\n",
    "        \n",
    "        # Fórmula mejorada de Newton-Raphson\n",
    "        x_new = x - ((fx * dfx) / ((dfx ** 2) - (fx * d2fx)))\n",
    "        \n",
    "        # Cálculo del error relativo\n",
    "        e = abs((x_new - x) / x_new)\n",
    "        \n",
    "        print(f\"ITERACIÓN {i+1} \\nRaíz: {x_new} \\nError: {e * 100:.6f}%\\n\")\n",
    "        \n",
    "        if e < err:\n",
    "            print(f\"La raíz aproximada es: {x_new}\")\n",
    "            break\n",
    "        \n",
    "        x = x_new\n",
    "        i += 1\n",
    "    \n",
    "    if i > imax:\n",
    "        print(\"Se alcanzó el número máximo de iteraciones sin converger.\")\n",
    "        return None"
   ]
  },
  {
   "cell_type": "code",
   "execution_count": 110,
   "metadata": {},
   "outputs": [
    {
     "name": "stdout",
     "output_type": "stream",
     "text": [
      "ITERACIÓN 1 \n",
      "Raíz: -0.014020618556702225 \n",
      "Error: 35761.764706%\n",
      "\n",
      "ITERACIÓN 2 \n",
      "Raíz: 0.7133083098209143 \n",
      "Error: 101.965576%\n",
      "\n",
      "ITERACIÓN 3 \n",
      "Raíz: 0.8331362101991755 \n",
      "Error: 14.382750%\n",
      "\n",
      "ITERACIÓN 4 \n",
      "Raíz: 0.8352049425292841 \n",
      "Error: 0.247692%\n",
      "\n",
      "La raíz aproximada es: 0.8352049425292841\n"
     ]
    }
   ],
   "source": [
    "#DEFINIR EL INTERVALO Y EL ERROR A USAR\n",
    "x0 = 5\n",
    "error = 0.01\n",
    "newton_raphson_mejorado(x0, error)"
   ]
  }
 ],
 "metadata": {
  "kernelspec": {
   "display_name": "Python 3",
   "language": "python",
   "name": "python3"
  },
  "language_info": {
   "codemirror_mode": {
    "name": "ipython",
    "version": 3
   },
   "file_extension": ".py",
   "mimetype": "text/x-python",
   "name": "python",
   "nbconvert_exporter": "python",
   "pygments_lexer": "ipython3",
   "version": "3.10.11"
  }
 },
 "nbformat": 4,
 "nbformat_minor": 2
}
