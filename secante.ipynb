{
 "cells": [
  {
   "cell_type": "code",
   "execution_count": 2,
   "metadata": {},
   "outputs": [],
   "source": [
    "import math\n",
    "import sympy as sp\n",
    "import matplotlib.pyplot as plt\n",
    "import numpy as np"
   ]
  },
  {
   "cell_type": "code",
   "execution_count": 3,
   "metadata": {},
   "outputs": [],
   "source": [
    "#DEFINIR EL INTERVALO Y EL ERROR A USAR\n",
    "a = 8\n",
    "b = 9\n",
    "error = 0.01"
   ]
  },
  {
   "cell_type": "code",
   "execution_count": 4,
   "metadata": {},
   "outputs": [],
   "source": [
    "#definir la función a la que se le buscará la raíz\n",
    "def f(x):\n",
    "    return -0.4*x**2 - 2.3*x + 2.2 #puedes modificar esto para encontrar la raíz de otra función"
   ]
  },
  {
   "cell_type": "code",
   "execution_count": 5,
   "metadata": {},
   "outputs": [
    {
     "name": "stdout",
     "output_type": "stream",
     "text": [
      "ITERACIÓN:  1 \n",
      "Raiz:  3.4065934065934043 \n",
      "Intervalo:  [ 9 , 3.4065934065934043 ] \n",
      "Error:  164.19354838709697 %\n",
      "\n",
      "ITERACIÓN:  2 \n",
      "Raiz:  1.991526706006959 \n",
      "Intervalo:  [ 3.4065934065934043 , 1.991526706006959 ] \n",
      "Error:  71.05436730113829 %\n",
      "\n",
      "ITERACIÓN:  3 \n",
      "Raiz:  1.1019186752260959 \n",
      "Intervalo:  [ 1.991526706006959 , 1.1019186752260959 ] \n",
      "Error:  80.73263942081115 %\n",
      "\n",
      "ITERACIÓN:  4 \n",
      "Raiz:  0.8700794925345854 \n",
      "Intervalo:  [ 1.1019186752260959 , 0.8700794925345854 ] \n",
      "Error:  26.645747277200073 %\n",
      "\n",
      "ITERACIÓN:  5 \n",
      "Raiz:  0.8364100458765188 \n",
      "Intervalo:  [ 0.8700794925345854 , 0.8364100458765188 ] \n",
      "Error:  4.025471337181584 %\n",
      "\n",
      "ITERACIÓN:  6 \n",
      "Raiz:  0.8352111534772079 \n",
      "Intervalo:  [ 0.8364100458765188 , 0.8352111534772079 ] \n",
      "Error:  0.14354362897569245 %\n",
      "\n",
      "ITERACIÓN:  7 \n",
      "Raiz:  0.8352055208282826 \n",
      "Intervalo:  [ 0.8352111534772079 , 0.8352055208282826 ] \n",
      "Error:  0.0006744027409797383 %\n",
      "\n",
      "La raíz aproximada es: x 7  =  0.8352055208282826\n"
     ]
    }
   ],
   "source": [
    "#SECANTE\n",
    "def secante(a, b, err):\n",
    "    i = 0\n",
    "    e = 101\n",
    "    c = 0\n",
    "    puntos = []\n",
    "    \n",
    "    # if f(a) * f(b) > 0:\n",
    "    #     print(\"No hay raíz en este intervalo.\")\n",
    "    #     return puntos\n",
    "    \n",
    "    while e > err:\n",
    "        c = a - ((a-b)/(f(a)-f(b))) * f(a)\n",
    "        a = b\n",
    "        b = c\n",
    "        puntos.append(c)\n",
    "        e = abs((c - a) / c) * 100\n",
    "        i += 1\n",
    "        print(\"ITERACIÓN: \", i, \"\\nRaiz: \", c, \"\\nIntervalo: \", '[', a, \",\", b, ']', \"\\nError: \", e, \"%\\n\")\n",
    "    \n",
    "    print('La raíz aproximada es: x', i, ' = ', c)\n",
    "    return puntos\n",
    "puntos_secante = secante(a, b, error)"
   ]
  }
 ],
 "metadata": {
  "kernelspec": {
   "display_name": "Python 3",
   "language": "python",
   "name": "python3"
  },
  "language_info": {
   "codemirror_mode": {
    "name": "ipython",
    "version": 3
   },
   "file_extension": ".py",
   "mimetype": "text/x-python",
   "name": "python",
   "nbconvert_exporter": "python",
   "pygments_lexer": "ipython3",
   "version": "3.10.11"
  }
 },
 "nbformat": 4,
 "nbformat_minor": 2
}
